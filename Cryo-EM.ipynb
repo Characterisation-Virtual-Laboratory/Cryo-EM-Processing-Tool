{
 "cells": [
  {
   "cell_type": "markdown",
   "metadata": {},
   "source": [
    "# Cryo-EM processing tool"
   ]
  },
  {
   "cell_type": "markdown",
   "metadata": {},
   "source": [
    "This notebook has been constructed as a wrapper to MotionCor2, Gctf and Gautomatch.\n",
    "\n",
    "Refer to the [User Guide on GitHub](https://github.com/Characterisation-Virtual-Laboratory/Cryo-EM-Processing-Tool/blob/master/userGuide.md) for details."
   ]
  },
  {
   "cell_type": "code",
   "execution_count": 1,
   "metadata": {},
   "outputs": [],
   "source": [
    "#enable ipympl to create matplotlib widgets.\n",
    "%matplotlib widget"
   ]
  },
  {
   "cell_type": "code",
   "execution_count": 2,
   "metadata": {},
   "outputs": [],
   "source": [
    "import ipywidgets as widgets\n",
    "from ipywidgets import VBox\n",
    "import motionCorrection as mc\n",
    "import gctf_106   as ctf\n",
    "import gautomatch as auto\n",
    "import jobOutput  as jo\n",
    "import workFlow   as wf\n",
    "import ctfReview  as review"
   ]
  },
  {
   "cell_type": "code",
   "execution_count": 3,
   "metadata": {},
   "outputs": [],
   "source": [
    "output = jo.jobOutput(False)\n",
    "motionCorr = mc.motionCorrection(output.call_program, False)\n",
    "contrastTrans = ctf.contrastTransFunc(output.call_program, False)\n",
    "autoPick = auto.autoPicking(output.call_program, False)\n",
    "workflow = wf.workFlow(motionCorr, contrastTrans, autoPick, True)\n",
    "ctfRev = review.ctfReview(workflow, contrastTrans, False)"
   ]
  },
  {
   "cell_type": "code",
   "execution_count": 4,
   "metadata": {},
   "outputs": [
    {
     "data": {
      "application/vnd.jupyter.widget-view+json": {
       "model_id": "1c1e58b9ff384deba7d4f19758b36f90",
       "version_major": 2,
       "version_minor": 0
      },
      "text/plain": [
       "Tab(children=(VBox(children=(VBox(children=(Output(layout=Layout(width='90%')), Tab(children=(VBox(children=(T…"
      ]
     },
     "metadata": {},
     "output_type": "display_data"
    },
    {
     "data": {
      "application/vnd.jupyter.widget-view+json": {
       "model_id": "9a41fad137b74ce1a1dbfae41e378631",
       "version_major": 2,
       "version_minor": 0
      },
      "text/plain": [
       "Tab(children=(VBox(children=(Output(layout=Layout(width='90%')), Textarea(value='', description='Debugging:', …"
      ]
     },
     "metadata": {},
     "output_type": "display_data"
    },
    {
     "data": {
      "application/vnd.jupyter.widget-view+json": {
       "model_id": "a4b24773aeaf4934a4533c43d10fc58d",
       "version_major": 2,
       "version_minor": 0
      },
      "text/plain": [
       "Tab(children=(VBox(children=(Output(layout=Layout(width='90%')), HBox(children=(Button(description='Start revi…"
      ]
     },
     "metadata": {},
     "output_type": "display_data"
    },
    {
     "data": {
      "application/vnd.jupyter.widget-view+json": {
       "model_id": "12d46a6d8e1e4199911227c1b2515707",
       "version_major": 2,
       "version_minor": 0
      },
      "text/plain": [
       "Tab(children=(VBox(children=(Output(layout=Layout(width='90%')), Textarea(value='', description='Standard outp…"
      ]
     },
     "metadata": {},
     "output_type": "display_data"
    }
   ],
   "source": [
    "motionCorrTab    = motionCorr.buildAllWidgets()\n",
    "contrastTransTab = contrastTrans.buildAllWidgets()\n",
    "autoPickTab         = autoPick.buildAllWidgets()\n",
    "\n",
    "tab = widgets.Tab(children=[motionCorrTab, contrastTransTab, autoPickTab])\n",
    "tab.set_title(0, 'Motion Correction')\n",
    "tab.set_title(1, 'Contrast Transfer')\n",
    "tab.set_title(2, 'Auto Particle Picking')\n",
    "display(tab)\n",
    "\n",
    "workflowTab = workflow.buildWidgets()\n",
    "wfTab = widgets.Tab(children=[workflowTab])\n",
    "wfTab.set_title(0, 'Workflow')\n",
    "display(wfTab)\n",
    "\n",
    "ctfReviewTab = ctfRev.buildWidgets()\n",
    "ctfTab = widgets.Tab(children=[ctfReviewTab])\n",
    "ctfTab.set_title(0, 'CTF Review')\n",
    "display(ctfTab)\n",
    "\n",
    "outputTab = output.buildOutputWidgets()\n",
    "outTab = widgets.Tab(children=[outputTab])\n",
    "outTab.set_title(0, 'Job Output')\n",
    "display(outTab)"
   ]
  },
  {
   "cell_type": "code",
   "execution_count": null,
   "metadata": {},
   "outputs": [],
   "source": []
  }
 ],
 "metadata": {
  "kernelspec": {
   "display_name": "Python 3",
   "language": "python",
   "name": "python3"
  },
  "language_info": {
   "codemirror_mode": {
    "name": "ipython",
    "version": 3
   },
   "file_extension": ".py",
   "mimetype": "text/x-python",
   "name": "python",
   "nbconvert_exporter": "python",
   "pygments_lexer": "ipython3",
   "version": "3.6.2"
  }
 },
 "nbformat": 4,
 "nbformat_minor": 2
}
