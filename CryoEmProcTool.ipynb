{
 "cells": [
  {
   "cell_type": "markdown",
   "metadata": {},
   "source": [
    "# Cryo-EM Processing Tool"
   ]
  },
  {
   "cell_type": "markdown",
   "metadata": {},
   "source": [
    "This notebook has been constructed as a wrapper to MotionCor2, Gctf and Gautomatch.\n",
    "\n",
    "Please use to obtain the best results prior to continuing data analysis with tools such as Relion.\n",
    "Below all input fields are exposed for your use."
   ]
  },
  {
   "cell_type": "code",
   "execution_count": 1,
   "metadata": {},
   "outputs": [],
   "source": [
    "import ipywidgets as widgets\n",
    "import motionCorrection as mc\n",
    "import gctf as ctf\n",
    "import gautomatch as auto\n",
    "import jobOutput as jo"
   ]
  },
  {
   "cell_type": "code",
   "execution_count": 2,
   "metadata": {},
   "outputs": [],
   "source": [
    "output = jo.jobOutput(False)\n",
    "motionCorr = mc.motionCorrection(output.call_program, False)\n",
    "contrastTrans = ctf.contrastTransFunc(output.call_program, False)\n",
    "match = auto.autoPicking(output.call_program, False)"
   ]
  },
  {
   "cell_type": "code",
   "execution_count": 3,
   "metadata": {},
   "outputs": [
    {
     "data": {
      "application/vnd.jupyter.widget-view+json": {
       "model_id": "8089f11399394fb6babf786e7251e545",
       "version_major": 2,
       "version_minor": 0
      },
      "text/plain": [
       "Tab(children=(VBox(children=(VBox(children=(Tab(children=(VBox(children=(Text(value='', description='Job No: '…"
      ]
     },
     "metadata": {},
     "output_type": "display_data"
    },
    {
     "data": {
      "application/vnd.jupyter.widget-view+json": {
       "model_id": "5cb55115e87045dd8a222fb7f30db0db",
       "version_major": 2,
       "version_minor": 0
      },
      "text/plain": [
       "VBox(children=(Textarea(value='', description='Standard output', description_tooltip='Standard output', layout…"
      ]
     },
     "metadata": {},
     "output_type": "display_data"
    }
   ],
   "source": [
    "motionCorrTab    = motionCorr.buildAllWidgets()\n",
    "contrastTransTab = contrastTrans.buildAllWidgets()\n",
    "matchTab         = match.buildAllWidgets()\n",
    "\n",
    "tab = widgets.Tab(children=[motionCorrTab, contrastTransTab, matchTab])\n",
    "tab.set_title(0, 'Motion Correction')\n",
    "tab.set_title(1, 'Contrast Transfer')\n",
    "tab.set_title(2, 'Auto Particle Picking')\n",
    "display(tab)\n",
    "\n",
    "output.buildOutputWidgets()"
   ]
  },
  {
   "cell_type": "code",
   "execution_count": null,
   "metadata": {},
   "outputs": [],
   "source": [
    "#Notes regarding % ipython magics.\n",
    "#They run nicely in here, but once I put them the script, the 'import' fails.\n",
    "#There are some examples on the web about importing IPython and then wrapping the magics but this seem to prevent the widgets\n",
    "#from building at all. \n",
    "#Work around added by the way of 2 cells. Buttons to be removed. There is no way to get a button to execute the cell contents in Jupyter lab."
   ]
  },
  {
   "cell_type": "code",
   "execution_count": null,
   "metadata": {},
   "outputs": [],
   "source": [
    "#Remove all stored variables\n",
    "%store -z"
   ]
  },
  {
   "cell_type": "code",
   "execution_count": null,
   "metadata": {},
   "outputs": [],
   "source": [
    "#Show all stored variables\n",
    "%store"
   ]
  },
  {
   "cell_type": "code",
   "execution_count": null,
   "metadata": {},
   "outputs": [],
   "source": [
    "#SaveJobs\n",
    "savedJobs = list(jobsList.options)\n",
    "%store savedJobs"
   ]
  },
  {
   "cell_type": "code",
   "execution_count": null,
   "metadata": {},
   "outputs": [],
   "source": [
    "#Refresh variables from %store\n",
    "%store -r savedJobs"
   ]
  },
  {
   "cell_type": "code",
   "execution_count": null,
   "metadata": {},
   "outputs": [],
   "source": []
  }
 ],
 "metadata": {
  "kernelspec": {
   "display_name": "Python 3",
   "language": "python",
   "name": "python3"
  },
  "language_info": {
   "codemirror_mode": {
    "name": "ipython",
    "version": 3
   },
   "file_extension": ".py",
   "mimetype": "text/x-python",
   "name": "python",
   "nbconvert_exporter": "python",
   "pygments_lexer": "ipython3",
   "version": "3.6.2"
  }
 },
 "nbformat": 4,
 "nbformat_minor": 2
}
