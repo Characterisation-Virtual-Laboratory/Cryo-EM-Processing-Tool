{
 "cells": [
  {
   "cell_type": "markdown",
   "metadata": {},
   "source": [
    "# Cryo-EM Processing Tool"
   ]
  },
  {
   "cell_type": "markdown",
   "metadata": {},
   "source": [
    "This notebook has been constructed as a wrapper to MotionCor2, Gctf and Gautomatch.\n",
    "\n",
    "Please use to obtain the best results prior to continuing data analysis with tools such as Relion.\n",
    "Below all input fields are exposed for your use."
   ]
  },
  {
   "cell_type": "code",
   "execution_count": 1,
   "metadata": {},
   "outputs": [],
   "source": [
    "import ipywidgets as widgets\n",
    "from ipywidgets import VBox\n",
    "import motionCorrection as mc\n",
    "import gctf_106   as ctf\n",
    "import gautomatch as auto\n",
    "import jobOutput  as jo\n",
    "import workFlow   as wf\n",
    "import ctfReview  as review"
   ]
  },
  {
   "cell_type": "code",
   "execution_count": 4,
   "metadata": {},
   "outputs": [],
   "source": [
    "output = jo.jobOutput(False)\n",
    "motionCorr = mc.motionCorrection(output.call_program, False)\n",
    "contrastTrans = ctf.contrastTransFunc(output.call_program, False)\n",
    "autoPick = auto.autoPicking(output.call_program, False)\n",
    "workflow = wf.workFlow(motionCorr, contrastTrans, autoPick, False)\n",
    "ctfRev = review.ctfReview(workflow, False)"
   ]
  },
  {
   "cell_type": "code",
   "execution_count": 5,
   "metadata": {},
   "outputs": [
    {
     "data": {
      "application/vnd.jupyter.widget-view+json": {
       "model_id": "2aea1c505b954162a52fa872369afc71",
       "version_major": 2,
       "version_minor": 0
      },
      "text/plain": [
       "Tab(children=(VBox(children=(VBox(children=(Tab(children=(VBox(children=(Text(value='', description='Job No: '…"
      ]
     },
     "metadata": {},
     "output_type": "display_data"
    },
    {
     "data": {
      "application/vnd.jupyter.widget-view+json": {
       "model_id": "72c245df9973424d898fcf7b76dadde8",
       "version_major": 2,
       "version_minor": 0
      },
      "text/plain": [
       "Tab(children=(VBox(children=(ToggleButtons(description='Mode:', index=1, options=('Single Process', 'Workflow'…"
      ]
     },
     "metadata": {},
     "output_type": "display_data"
    },
    {
     "data": {
      "application/vnd.jupyter.widget-view+json": {
       "model_id": "dfae4813eb3042dd839af5e626a08f7a",
       "version_major": 2,
       "version_minor": 0
      },
      "text/plain": [
       "Tab(children=(VBox(children=(HBox(children=(Button(description='Start Review', style=ButtonStyle(), tooltip='S…"
      ]
     },
     "metadata": {},
     "output_type": "display_data"
    },
    {
     "data": {
      "application/vnd.jupyter.widget-view+json": {
       "model_id": "2bfd0ba9edd8428c9f42c1aa26490a98",
       "version_major": 2,
       "version_minor": 0
      },
      "text/plain": [
       "Tab(children=(VBox(children=(Textarea(value='', description='Standard output', description_tooltip='Standard o…"
      ]
     },
     "metadata": {},
     "output_type": "display_data"
    }
   ],
   "source": [
    "motionCorrTab    = motionCorr.buildAllWidgets()\n",
    "contrastTransTab = contrastTrans.buildAllWidgets()\n",
    "autoPickTab         = autoPick.buildAllWidgets()\n",
    "\n",
    "tab = widgets.Tab(children=[motionCorrTab, contrastTransTab, autoPickTab])\n",
    "tab.set_title(0, 'Motion Correction')\n",
    "tab.set_title(1, 'Contrast Transfer')\n",
    "tab.set_title(2, 'Auto Particle Picking')\n",
    "display(tab)\n",
    "\n",
    "workflowTab = workflow.buildWidgets()\n",
    "wfTab = widgets.Tab(children=[workflowTab])\n",
    "wfTab.set_title(0, 'Workflow')\n",
    "display(wfTab)\n",
    "\n",
    "ctfReviewTab = ctfRev.buildWidgets()\n",
    "ctfTab = widgets.Tab(children=[ctfReviewTab])\n",
    "ctfTab.set_title(0, 'CTF Review')\n",
    "display(ctfTab)\n",
    "\n",
    "outputTab = output.buildOutputWidgets()\n",
    "outTab = widgets.Tab(children=[outputTab])\n",
    "outTab.set_title(0, 'Job Output')\n",
    "display(outTab)"
   ]
  },
  {
   "cell_type": "code",
   "execution_count": null,
   "metadata": {},
   "outputs": [],
   "source": []
  }
 ],
 "metadata": {
  "kernelspec": {
   "display_name": "Python 3",
   "language": "python",
   "name": "python3"
  },
  "language_info": {
   "codemirror_mode": {
    "name": "ipython",
    "version": 3
   },
   "file_extension": ".py",
   "mimetype": "text/x-python",
   "name": "python",
   "nbconvert_exporter": "python",
   "pygments_lexer": "ipython3",
   "version": "3.7.1"
  }
 },
 "nbformat": 4,
 "nbformat_minor": 2
}
