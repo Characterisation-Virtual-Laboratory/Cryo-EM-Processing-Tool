{
 "cells": [
  {
   "cell_type": "markdown",
   "metadata": {},
   "source": [
    "# MotionCor2"
   ]
  },
  {
   "cell_type": "markdown",
   "metadata": {},
   "source": [
    "This notebook has been constructed as a wrapper to MotionCor2.\n",
    "\n",
    "Please use to obtain the best results prior to continuing data analysis with tools such as Relion.\n",
    "Below all input fields are exposed for your use."
   ]
  },
  {
   "cell_type": "code",
   "execution_count": 82,
   "metadata": {},
   "outputs": [],
   "source": [
    "import subprocess as subp\n",
    "import ipywidgets as widgets\n",
    "from ipywidgets import HBox, VBox, Label, Layout"
   ]
  },
  {
   "cell_type": "code",
   "execution_count": 83,
   "metadata": {},
   "outputs": [],
   "source": [
    "style = {'description_width': 'initial'}\n",
    "\n",
    "#Input Widgets\n",
    "inMrc = widgets.Text(\n",
    "    value='/home/jvanschy/br76_scratch/relion21_tutorial/betagal/Micrographs/',\n",
    "    placeholder='path for input MCR file or folder containing MRC files',\n",
    "    description='Input: ',\n",
    "    disabled=False,\n",
    "    style=style)\n",
    "\n",
    "inTiff = widgets.Text(\n",
    "    placeholder='path for input TIFF file',\n",
    "    description='Input TIFF: ',\n",
    "    disabled=False,\n",
    "    style=style)\n",
    "\n",
    "outMrc = widgets.Text(\n",
    "    value='/home/jvanschy/br76_scratch/relion21_tutorial/betagal/JayMotionCorr/',\n",
    "    placeholder='path for output MCR file',\n",
    "    description='Output: ',\n",
    "    disabled=False,\n",
    "    style=style)\n",
    "\n",
    "fullSum = widgets.Text(\n",
    "    placeholder='path for global-motion corrected MRC file',\n",
    "    description='Output global-motion: ',\n",
    "    disabled=False,\n",
    "    style=style)\n",
    "\n",
    "defectFile = widgets.Text(\n",
    "    placeholder='path for the Defect file that details camera defects',\n",
    "    description='DefectFile: ',\n",
    "    disabled=False,\n",
    "    style=style)\n",
    "\n",
    "processing = widgets.Select(\n",
    "    options=['Serial', 'Single'],\n",
    "    description='Processing type: ',\n",
    "    disabled=False,\n",
    "    style=style)\n",
    "\n",
    "gainFile = widgets.Text(\n",
    "    placeholder='path for MRC file that stores the gain reference',\n",
    "    description='Gain: ',\n",
    "    disabled=False,\n",
    "    style=style)\n",
    "\n",
    "patch = widgets.Text(\n",
    "    placeholder='Number of patches for alignment e.g. 5 5',\n",
    "    description='Patch: ',\n",
    "    disabled=False,\n",
    "    style=style)\n",
    "\n",
    "iteration = widgets.IntSlider(\n",
    "    value=7,\n",
    "    min=0,\n",
    "    max=20,\n",
    "    step=1,\n",
    "    description='Iteration: ',\n",
    "    continuous_update=False,\n",
    "    orientation='horizontal',\n",
    "    readout=True,\n",
    "    readout_format='d',\n",
    "    style=style)\n",
    "\n",
    "tolerance = widgets.FloatSlider(\n",
    "    value=0.5,\n",
    "    min=0,\n",
    "    max=10,\n",
    "    step=0.1,\n",
    "    description='Tolerance: ',\n",
    "    continuous_update=False,\n",
    "    orientation='horizontal',\n",
    "    readout=True,\n",
    "    readout_format='.1f',\n",
    "    style=style)\n",
    "\n",
    "bFactor = widgets.IntSlider(\n",
    "    value=150,\n",
    "    min=0,\n",
    "    max=1500,\n",
    "    step=1,\n",
    "    description='B-Factor',\n",
    "    continuous_update=False,\n",
    "    orientation='horizontal',\n",
    "    readout=True,\n",
    "    readout_format='d',\n",
    "    style=style)\n",
    "\n",
    "stack = widgets.IntText(\n",
    "    value=0,\n",
    "    description='Frames per stack: ',\n",
    "    disabled=False,\n",
    "    style=style)\n",
    "\n",
    "binningFactor = widgets.FloatSlider(\n",
    "    value=1,\n",
    "    min=1,\n",
    "    max=10,\n",
    "    step=0.1,\n",
    "    description='Binning Factor',\n",
    "    continuous_update=False,\n",
    "    orientation='horizontal',\n",
    "    readout=True,\n",
    "    readout_format='.1f',\n",
    "    style=style)\n",
    "\n",
    "initDose = widgets.IntSlider(\n",
    "    value=0,\n",
    "    min=0,\n",
    "    max=5,\n",
    "    step=1,\n",
    "    description='Initial Dose (e/A2)',\n",
    "    continuous_update=False,\n",
    "    orientation='horizontal',\n",
    "    readout=True,\n",
    "    readout_format='d',\n",
    "    style=style)\n",
    "\n",
    "frameDose = widgets.IntSlider(\n",
    "    value=0,\n",
    "    min=0,\n",
    "    max=5,\n",
    "    step=1,\n",
    "    description='Frame Dose (e/A2)',\n",
    "    continuous_update=False,\n",
    "    orientation='horizontal',\n",
    "    readout=True,\n",
    "    readout_format='d',\n",
    "    style=style)\n",
    "\n",
    "pixelSize = widgets.FloatSlider(\n",
    "    value=0.5,\n",
    "    min=0,\n",
    "    max=4.0,\n",
    "    step=0.01,\n",
    "    description='Pixel Size (A): ',\n",
    "    continuous_update=False,\n",
    "    orientation='horizontal',\n",
    "    readout=True,\n",
    "    readout_format='.01f',\n",
    "    style=style)\n",
    "\n",
    "voltage = widgets.IntText(\n",
    "    value=300,\n",
    "    description='Voltage (kV): ',\n",
    "    disabled=False,\n",
    "    style=style)\n",
    "\n",
    "throw = widgets.IntText(\n",
    "    min=0,\n",
    "    description='Throw: ',\n",
    "    disabled=False,\n",
    "    style=style)\n",
    "\n",
    "trunc = widgets.IntText(\n",
    "    min=0,\n",
    "    description='Trunc: ',\n",
    "    disabled=False,\n",
    "    style=style)\n",
    "\n",
    "group = widgets.IntText(\n",
    "    value=0,\n",
    "    description='Group frames: ',\n",
    "    disabled=False,\n",
    "    style=style)\n",
    "\n",
    "fmRef = widgets.Select(\n",
    "    options=['Central', 'First'],\n",
    "    description='Reference frame: ',\n",
    "    disabled=False,\n",
    "    style=style)\n",
    "\n",
    "tilt = widgets.Text(\n",
    "    value='',\n",
    "    placeholder='specify the starting angle followed by the tilt step. e.g. 0 2',\n",
    "    description='Tilt Angle and Step: ',\n",
    "    disabled=False,\n",
    "    style=style)\n",
    "\n",
    "rotGain = widgets.Select(\n",
    "    options=['No rotation - default', 'Rotate 90', 'Rotate 180', 'Rotate 270'],\n",
    "    description='Rotate Gain: ',\n",
    "    disabled=False,\n",
    "    style=style)\n",
    "\n",
    "flipGain = widgets.Select(\n",
    "    options=['No flip - default', 'upside down - horizontal axis', 'left right - vertical axis'],\n",
    "    description='Flip Gain ',\n",
    "    disabled=False,\n",
    "    style=style)\n",
    "\n",
    "gpu = widgets.Text(\n",
    "    value='',\n",
    "    placeholder='indicate the GPUs to use',\n",
    "    description='GPU Usage: ',\n",
    "    disabled=False,\n",
    "    style=style)"
   ]
  },
  {
   "cell_type": "code",
   "execution_count": 84,
   "metadata": {},
   "outputs": [],
   "source": [
    "#Output Widgets\n",
    "args = widgets.Textarea(\n",
    "    description='Arguments',\n",
    "    description_tooltip='Arguments',\n",
    "    disabled=False,\n",
    "    rows=2,\n",
    "    style=style,\n",
    "    layout=Layout(width='90%'))\n",
    "\n",
    "stdout = widgets.Textarea(\n",
    "    description='Standard output',\n",
    "    description_tooltip='Standard output',\n",
    "    disabled=False,\n",
    "    rows=20,\n",
    "    style=style,\n",
    "    layout=Layout(width='90%'))\n",
    "\n",
    "stderr = widgets.Textarea(\n",
    "    description='Standard Error',\n",
    "    description_tooltip='Standard Error output',\n",
    "    disabled=False,\n",
    "    rows=5,\n",
    "    style=style,\n",
    "    layout=Layout(width='90%'))"
   ]
  },
  {
   "cell_type": "code",
   "execution_count": 85,
   "metadata": {},
   "outputs": [],
   "source": [
    "#Build the input widgets\n",
    "def buildInputWidgets():\n",
    "    io1 = VBox([inMrc, inTiff, outMrc, fullSum, defectFile, processing, gainFile, patch, iteration, tolerance, bFactor, stack, binningFactor])\n",
    "    io2 = VBox([initDose, frameDose, pixelSize, voltage, throw, trunc, group, fmRef, tilt, rotGain, flipGain, gpu])\n",
    "    inputFields = HBox([io1, io2])\n",
    "    display(inputFields)"
   ]
  },
  {
   "cell_type": "code",
   "execution_count": 86,
   "metadata": {},
   "outputs": [],
   "source": [
    "#Build argument list\n",
    "def buildArgumentsList():\n",
    "    args = ''\n",
    "    \n",
    "    if  inMrc.value is not '':\n",
    "        args += \"-InMrc \" + inMrc.value\n",
    "    if  inTiff.value is not '':\n",
    "        args += \" -InTiff \" + inTiff.value\n",
    "    if  outMrc.value is not '':\n",
    "        args += \" -OutMrc \" + outMrc.value\n",
    "    if  fullSum.value is not '':\n",
    "        args += \" -FullSum \" + fullSum.value\n",
    "    if  defectFile.value is not '':\n",
    "        args += \" -DefectFile \" + defectFile.value\n",
    "    if  gainFile.value is not '':\n",
    "        args += \" -Gain \" + gainFile.value\n",
    "    if  patch.value is not '':\n",
    "        args += \" -Patch \" + patch.value\n",
    "    if  tilt.value is not '':\n",
    "        args += \" -Tilt \" + tilt.value\n",
    "    if  gpu.value is not '':\n",
    "        args += \" -Gpu \" + gpu.value\n",
    "\n",
    "    if  processing.value == \"Single\":\n",
    "        args += \" -Serial 0\"\n",
    "    if  processing.value == \"Serial\":\n",
    "        args += \" -Serial 1\"\n",
    "    if  fmRef.value == \"Central\":\n",
    "        args += \" -FmRef 1\"\n",
    "    if  fmRef.value == \"First\":\n",
    "        args += \" -FmRef 0\"\n",
    "    if  rotGain.value == \"No rotation - default\":\n",
    "        args += \" -RotGain 0\"\n",
    "    if  rotGain.value == \"Rotate 90\":\n",
    "        args += \" -RotGain 1\"\n",
    "    if  rotGain.value == \"Rotate 180\":\n",
    "        args += \" -RotGain 2\"\n",
    "    if  rotGain.value == \"Rotate 270\":\n",
    "        args += \" -RotGain 3\"\n",
    "    if  flipGain.value == \"No flip - default\":\n",
    "        args += \" -FlipGain 0\"\n",
    "    if  flipGain.value == \"upside down - horizontal axis\":\n",
    "        args += \" -FlipGain 1\"\n",
    "    if  flipGain.value == \"left right - vertical axis\":\n",
    "        args += \" -FlipGain 2\"\n",
    "    \n",
    "    if  iteration.value > 0:\n",
    "        args += \" -Iter \" + str(iteration.value)\n",
    "    if  tolerance.value > 0:\n",
    "        args += \" -Tol \" + str(tolerance.value)\n",
    "    if  bFactor.value > 0:\n",
    "        args += \" -Bft \" + str(bFactor.value)\n",
    "    if  stack.value > 0:\n",
    "        args += \" -StackZ \" + str(stack.value)\n",
    "    if  binningFactor.value > 1:\n",
    "        args += \" -FtBin \" + str(binningFactor.value)\n",
    "    if  initDose.value > 0:\n",
    "        args += \" -InitDose \" + str(initDose.value)\n",
    "    if  frameDose.value > 0:\n",
    "        args += \" -FmDose \" + str(frameDose.value)\n",
    "    if  pixelSize.value > 0:\n",
    "        args += \" -PixSize \" + str(pixelSize.value)\n",
    "    if  voltage.value > 0:\n",
    "        args += \" -kV \" + str(voltage.value)\n",
    "    if  throw.value > 0:\n",
    "        args += \" -Throw \" + str(throw.value)\n",
    "    if  trunc.value > 0:\n",
    "        args += \" -Trunc \" + str(trunc.value)\n",
    "    if  group.value > 0:\n",
    "        args += \" -Group \" + str(group.value)\n",
    "    \n",
    "    return args"
   ]
  },
  {
   "cell_type": "code",
   "execution_count": 87,
   "metadata": {},
   "outputs": [],
   "source": [
    "def call_motioncor2(b):\n",
    "    \n",
    "    #Clear output from previous run\n",
    "    stdout.value = ''\n",
    "    stderr.value = ''\n",
    "    args.value = ''\n",
    "    \n",
    "    #Calling motioncor2\n",
    "    #Note: shell=True. There are security implications for this. This was enabled as the arguments were not\n",
    "    #being passed in to motioncor2 for some reason. Unable to determine why.\n",
    "    #response = subp.run([\"motioncor2 \",  buildArgumentsList()], stdout=subp.PIPE, stderr=subp.PIPE)\n",
    "    #try:\n",
    "    #response = subp.run(\"motioncor2 \" + buildArgumentsList(), shell=True, stdout=subp.PIPE, stderr=subp.PIPE)\n",
    "    response = subp.Popen(\"motioncor2 \" + buildArgumentsList(), shell=True, stdout=subp.PIPE, stderr=subp.PIPE)\n",
    "    #except sp.TimeoutExpired:\n",
    "    #    stderr.value = 'Call timed out!'\n",
    "    #except sp.SubprocessError:\n",
    "    #    stderr.value = 'Subprocess Error!'\n",
    "\n",
    "    while True:\n",
    "        output = response.stdout.readline().decode()\n",
    "        if  output == '' and response.poll() is not None:\n",
    "            break\n",
    "        if  output:\n",
    "            stdout.value = stdout.value + output\n",
    "    \n",
    "    #stdout.value = response.stdout\n",
    "    #stderr.value = response.stderr\n",
    "    args.value = buildArgumentsList()"
   ]
  },
  {
   "cell_type": "code",
   "execution_count": 88,
   "metadata": {},
   "outputs": [],
   "source": [
    "def buildOutputWidgets():\n",
    "    runMotionCor2 = widgets.Button(\n",
    "        description='Run',\n",
    "        disabled=False,\n",
    "        button_style='',\n",
    "        tooltip='Run motioncor2',\n",
    "        icon='check')\n",
    "\n",
    "    runMotionCor2.on_click(call_motioncor2)\n",
    "\n",
    "    display(runMotionCor2)\n",
    "    organiseOutputs = VBox([stdout, stderr, args])\n",
    "    display(organiseOutputs)"
   ]
  },
  {
   "cell_type": "code",
   "execution_count": 89,
   "metadata": {},
   "outputs": [
    {
     "data": {
      "application/vnd.jupyter.widget-view+json": {
       "model_id": "1798f086f3124c4eab14fd1c655951b9",
       "version_major": 2,
       "version_minor": 0
      },
      "text/plain": [
       "HBox(children=(VBox(children=(Text(value='/home/jvanschy/br76_scratch/relion21_tutorial/betagal/Micrographs/',…"
      ]
     },
     "metadata": {},
     "output_type": "display_data"
    }
   ],
   "source": [
    "buildInputWidgets()"
   ]
  },
  {
   "cell_type": "code",
   "execution_count": 35,
   "metadata": {},
   "outputs": [
    {
     "data": {
      "application/vnd.jupyter.widget-view+json": {
       "model_id": "de232705018941e49be502d4d5f51f0c",
       "version_major": 2,
       "version_minor": 0
      },
      "text/plain": [
       "Button(description='Run', icon='check', style=ButtonStyle(), tooltip='Run motioncor2')"
      ]
     },
     "metadata": {},
     "output_type": "display_data"
    },
    {
     "data": {
      "application/vnd.jupyter.widget-view+json": {
       "model_id": "86be7da1ebbd417288972d7c9cc135d7",
       "version_major": 2,
       "version_minor": 0
      },
      "text/plain": [
       "VBox(children=(Textarea(value='', description='Standard output', description_tooltip='Standard output', layout…"
      ]
     },
     "metadata": {},
     "output_type": "display_data"
    }
   ],
   "source": [
    "buildOutputWidgets()"
   ]
  },
  {
   "cell_type": "code",
   "execution_count": 36,
   "metadata": {},
   "outputs": [],
   "source": [
    "#\n",
    "#class tableSelectGUI(widgets.VBox):\n",
    "#    def __init__(self):\n",
    "#        #Init superclass VBox\n",
    "#        super(tableSelectGUI, self).__init__()\n",
    "        \n",
    "        #Define the gui objects\n",
    "#        self._jobsList = widgets.SelectMultiple(description='Jobs: ', disabled=False, style={'description_width': 'initial'}, rows=10, layout=Layout(width='90%'))\n",
    "#        self._add = widgets.Button(description='Add', disabled=False, button_style='', tooltip='Add job')\n",
    "#        self._delete = widgets.Button(description='Delete', disabled=False, button_style='',tooltip='Delete job(s)')\n",
    "#        self._save = widgets.Button(description='Save', disabled=False, button_style='', tooltip='Save job(s)')\n",
    "#        self._load = widgets.Button(description='Load', disabled=False, button_style='', tooltip='Load job(s)')\n",
    "#        self._run = widgets.Button(description='Run', disabled=False, button_style='', tooltip='Run all jobs')\n",
    "        \n",
    "#        self._buttons = HBox([self._add, self._delete, self._save, self._load, self._run])\n",
    "#        children = [self._jobsList, self._buttons]\n",
    "#        self.children = children\n",
    "        \n",
    "#        @property\n",
    "#        def value(self):\n",
    "#            return self._jobsList.value"
   ]
  },
  {
   "cell_type": "code",
   "execution_count": 78,
   "metadata": {},
   "outputs": [],
   "source": [
    "import dicttoxml\n",
    "\n",
    "def buildNewJob():\n",
    "    newJob = {\"inMrc\":inMrc.value}\n",
    "    newJob['inTiff']        = inTiff.value\n",
    "    newJob['outMrc']        = outMrc.value\n",
    "    newJob['fullSum']       = fullSum.value\n",
    "    newJob['defectFile']    = defectFile.value\n",
    "    newJob['processing']    = processing.value\n",
    "    newJob['gainFile']      = gainFile.value\n",
    "    newJob['patch']         = patch.value\n",
    "    newJob['iteration']     = iteration.value\n",
    "    newJob['tolerance']     = tolerance.value   \n",
    "    newJob['bFactor']       = bFactor.value \n",
    "    newJob['stack']         = stack.value\n",
    "    newJob['binningFactor'] = binningFactor.value   \n",
    "    newJob['initDose']      = initDose.value   \n",
    "    newJob['frameDose']     = frameDose.value   \n",
    "    newJob['pixelSize']     = pixelSize.value   \n",
    "    newJob['voltage']       = voltage.value   \n",
    "    newJob['throw']         = throw.value   \n",
    "    newJob['trunc']         = trunc.value   \n",
    "    newJob['group']         = group.value   \n",
    "    newJob['tilt']          = tilt.value   \n",
    "    newJob['rotGain']       = rotGain.value   \n",
    "    newJob['flipGain']      = flipGain.value\n",
    "    newJob['gpu']           = gpu.value\n",
    "    newJobXML = str(dicttoxml.dicttoxml(newJob, attr_type=False, root=False))\n",
    "    return newJobXML\n"
   ]
  },
  {
   "cell_type": "code",
   "execution_count": 81,
   "metadata": {},
   "outputs": [
    {
     "data": {
      "application/vnd.jupyter.widget-view+json": {
       "model_id": "06f4437b554a459488689b0831e3244c",
       "version_major": 2,
       "version_minor": 0
      },
      "text/plain": [
       "VBox(children=(SelectMultiple(description='Jobs: ', layout=Layout(width='90%'), options=('Job1 | value 1', 'Jo…"
      ]
     },
     "metadata": {},
     "output_type": "display_data"
    }
   ],
   "source": [
    "existingJobs = [('Job1 | value 1'), ('Job2 | value 2'), ('Job3 | value 3'), ('Job3 | value4')]\n",
    "saveJobs = [('')]\n",
    "\n",
    "jobsList = widgets.SelectMultiple(description='Jobs: ', options=existingJobs, disabled=False, style={'description_width': 'initial'}, rows=10, layout=Layout(width='90%'))\n",
    "add = widgets.Button(description='Add', disabled=False, button_style='', tooltip='Add job')\n",
    "delete = widgets.Button(description='Delete', disabled=False, button_style='',tooltip='Delete job(s)')\n",
    "save = widgets.Button(description='Save', disabled=False, button_style='', tooltip='Save job(s)')\n",
    "load = widgets.Button(description='Load', disabled=False, button_style='', tooltip='Load job(s)')\n",
    "run = widgets.Button(description='Run', disabled=False, button_style='', tooltip='Run all jobs')\n",
    "\n",
    "buttons = HBox([add, delete, save, load, run])\n",
    "selectableTable = VBox([jobsList, buttons])\n",
    "\n",
    "def addJob(b):\n",
    "    listedJobs = jobsList.options\n",
    "    listedJobsList = list(listedJobs)\n",
    "    newJob = buildNewJob()\n",
    "    #converting to tuple\n",
    "    newJobTuple = (newJob,)\n",
    "    listedJobsList.extend(newJobTuple)\n",
    "    jobsList.options = listedJobsList\n",
    "\n",
    "def deleteJob(b):\n",
    "    #obtain the listedJobs\n",
    "    listedJobs = jobsList.options\n",
    "    listedJobsList = list(listedJobs)\n",
    "    #obtain the selectedJobs\n",
    "    selectedJobs = jobsList.value\n",
    "    selectedJobsList = list(selectedJobs)\n",
    "    #remove selected jobs\n",
    "    for i in range(len(selectedJobsList)):\n",
    "        listedJobsList.remove(selectedJobsList[i])\n",
    "    #update \n",
    "    jobsList.options = listedJobsList\n",
    "\n",
    "def saveJobs(b):\n",
    "    listedJobs = jobsList.options\n",
    "    saveJobs = list(listedJobs)\n",
    "    #store the variable in the IPython database.\n",
    "    %store saveJobs\n",
    "\n",
    "def loadJobs(b):\n",
    "    #restore all saved variables from the IPython database.\n",
    "    %store -r \n",
    "    #update the screen\n",
    "    jobsList.options = saveJobs\n",
    "    \n",
    "add.on_click(addJob)\n",
    "delete.on_click(deleteJob)\n",
    "save.on_click(saveJobs)\n",
    "load.on_click(loadJobs)\n",
    "\n",
    "display(selectableTable)"
   ]
  },
  {
   "cell_type": "code",
   "execution_count": 63,
   "metadata": {},
   "outputs": [],
   "source": [
    "%store -z"
   ]
  },
  {
   "cell_type": "code",
   "execution_count": null,
   "metadata": {},
   "outputs": [],
   "source": [
    "listedJobs = jobsList.options\n",
    "listedJobsList = list(listedJobs)\n",
    "listedJobsList"
   ]
  },
  {
   "cell_type": "code",
   "execution_count": 20,
   "metadata": {},
   "outputs": [
    {
     "name": "stdout",
     "output_type": "stream",
     "text": [
      "Stored variables and their in-db values:\n"
     ]
    }
   ],
   "source": [
    "%store"
   ]
  },
  {
   "cell_type": "code",
   "execution_count": 21,
   "metadata": {},
   "outputs": [
    {
     "name": "stdout",
     "output_type": "stream",
     "text": [
      "Stored 'saveJobs' (list)\n"
     ]
    }
   ],
   "source": [
    "listedJobs = jobsList.options\n",
    "saveJobs = list(listedJobs)\n",
    "%store saveJobs"
   ]
  },
  {
   "cell_type": "code",
   "execution_count": 23,
   "metadata": {},
   "outputs": [
    {
     "name": "stdout",
     "output_type": "stream",
     "text": [
      "Stored variables and their in-db values:\n",
      "saveJobs             -> ['Job1 | value 1', 'Job2 | value 2', 'Job3 | value\n"
     ]
    }
   ],
   "source": [
    "%store"
   ]
  },
  {
   "cell_type": "code",
   "execution_count": null,
   "metadata": {},
   "outputs": [],
   "source": []
  }
 ],
 "metadata": {
  "kernelspec": {
   "display_name": "Python 3",
   "language": "python",
   "name": "python3"
  },
  "language_info": {
   "codemirror_mode": {
    "name": "ipython",
    "version": 3
   },
   "file_extension": ".py",
   "mimetype": "text/x-python",
   "name": "python",
   "nbconvert_exporter": "python",
   "pygments_lexer": "ipython3",
   "version": "3.6.2"
  }
 },
 "nbformat": 4,
 "nbformat_minor": 2
}
